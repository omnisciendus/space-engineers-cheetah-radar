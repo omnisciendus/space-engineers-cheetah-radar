{
 "cells": [
  {
   "cell_type": "code",
   "execution_count": 4,
   "metadata": {},
   "outputs": [
    {
     "name": "stdout",
     "output_type": "stream",
     "text": [
      "Radar Detection Range\n",
      "Max Range to Target / Max Hostile Detection Range\n",
      "Active Radars: 1\n",
      "Large Reactors Running: 0.1667\n",
      "+----------------+---------------+---------------+---------------+---------------+---------------+---------------+----------+------------+------------------------------------+\n",
      "|     Target     |     Turret    |     Active    |    Passive    |      Heat     |    Gravity    |   Net Range   | Mass (T) | Length (m) |               Blocks               |\n",
      "+----------------+---------------+---------------+---------------+---------------+---------------+---------------+----------+------------+------------------------------------+\n",
      "|    Tugboat     |   1.0 / 1.0   |   4.7 / 0.0   |   0.0 / 33.3  |   3.0 / 10.0  |   0.1 / 10.6  |   4.7 / 33.3  |   100    |     25     |          1 small reactor           |\n",
      "|  Mining Ship   |   1.0 / 1.0   |   9.4 / 0.0   |   0.0 / 33.3  |   6.0 / 10.0  |   0.5 / 10.6  |   9.4 / 33.3  |   250    |     50     |          2 small reactor           |\n",
      "|  Stealth Ship  |   1.0 / 1.0   |   8.6 / 0.0   |   0.0 / 33.3  |   0.0 / 10.0  |   2.2 / 10.6  |   8.6 / 33.3  |   700    |     75     |              10 decoy              |\n",
      "| Detector Ship  |   1.0 / 1.0   |  16.9 / 16.9  |  33.3 / 33.3  |  10.0 / 10.0  |  10.6 / 10.6  |  33.3 / 33.3  |   2000   |     90     | 1 radar active, 0.17 large reactor |\n",
      "|   Battleship   |   1.0 / 1.0   |  37.5 / 0.0   |   0.0 / 33.3  | 120.0 / 10.0  | 118.7 / 10.6  | 120.0 / 33.3  |  10000   |    200     |          2 large reactor           |\n",
      "|   Mothership   |   1.0 / 1.0   |  51.6 / 0.0   |   0.0 / 33.3  | 200.0 / 10.0  | 200.0 / 10.6  | 200.0 / 33.3  |  20000   |    275     |          8 large reactor           |\n",
      "|  Ore Facility  |   1.0 / 1.0   |  42.2 / 0.0   |   0.0 / 33.3  | 200.0 / 10.0  | 200.0 / 10.6  | 200.0 / 33.3  |  25000   |    225     |          4 large reactor           |\n",
      "|    Shipyard    |   1.0 / 1.0   |  75.0 / 0.0   |   0.0 / 33.3  |  60.0 / 10.0  | 200.0 / 10.6  | 200.0 / 33.3  |  35000   |    400     |          1 large reactor           |\n",
      "| Mining Outpost |   1.0 / 1.0   |  37.5 / 0.0   |   0.0 / 33.3  |  12.0 / 10.0  |  19.5 / 10.6  |  37.5 / 33.3  |   3000   |    200     |          4 small reactor           |\n",
      "+----------------+---------------+---------------+---------------+---------------+---------------+---------------+----------+------------+------------------------------------+\n"
     ]
    }
   ],
   "source": [
    "run radar.py"
   ]
  },
  {
   "cell_type": "code",
   "execution_count": null,
   "metadata": {},
   "outputs": [],
   "source": []
  }
 ],
 "metadata": {
  "kernelspec": {
   "display_name": "Python 3",
   "language": "python",
   "name": "python3"
  },
  "language_info": {
   "codemirror_mode": {
    "name": "ipython",
    "version": 3
   },
   "file_extension": ".py",
   "mimetype": "text/x-python",
   "name": "python",
   "nbconvert_exporter": "python",
   "pygments_lexer": "ipython3",
   "version": "3.7.0"
  }
 },
 "nbformat": 4,
 "nbformat_minor": 2
}
